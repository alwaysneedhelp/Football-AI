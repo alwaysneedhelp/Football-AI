{
  "cells": [
    {
      "cell_type": "markdown",
      "metadata": {
        "id": "view-in-github",
        "colab_type": "text"
      },
      "source": [
        "<a href=\"https://colab.research.google.com/github/alwaysneedhelp/Football-AI/blob/main/Football.ipynb\" target=\"_parent\"><img src=\"https://colab.research.google.com/assets/colab-badge.svg\" alt=\"Open In Colab\"/></a>"
      ]
    },
    {
      "cell_type": "code",
      "execution_count": null,
      "metadata": {
        "id": "PlvFbkpvtNVk"
      },
      "outputs": [],
      "source": [
        "import pandas as pd\n",
        "import kagglehub\n",
        "import os\n",
        "import xgboost as xgb\n",
        "from xgboost import plot_importance\n",
        "import matplotlib.pyplot as plt\n",
        "from sklearn.model_selection import train_test_split\n",
        "from sklearn.metrics import accuracy_score, precision_score, recall_score, f1_score\n",
        "import shap"
      ]
    },
    {
      "cell_type": "code",
      "source": [
        "rf = xgb.XGBClassifier(reg_lambda=1)"
      ],
      "metadata": {
        "id": "2F_iFBe485FY"
      },
      "execution_count": null,
      "outputs": []
    },
    {
      "cell_type": "markdown",
      "source": [
        "**FUNCTION TO LOAD FILES FROM KAGGLEHUB**"
      ],
      "metadata": {
        "id": "EAV6jNayhIiV"
      }
    },
    {
      "cell_type": "code",
      "execution_count": null,
      "metadata": {
        "id": "lK4m0lci17z0"
      },
      "outputs": [],
      "source": [
        "def load_file(link, name):\n",
        "  path = kagglehub.dataset_download(link)\n",
        "  path = os.path.join(path, f'{name}.csv')\n",
        "  return path"
      ]
    },
    {
      "cell_type": "markdown",
      "source": [
        "**MAKE IT EASIER TO WORK WITH PREDICTOR LIST**"
      ],
      "metadata": {
        "id": "wRSG89W3hEzw"
      }
    },
    {
      "cell_type": "code",
      "source": [
        "predictors = []\n",
        "def add(*args):\n",
        "  global predictors\n",
        "  for each in args:\n",
        "    if each not in predictors:\n",
        "      predictors.append(each)\n",
        "      log_info(f'Added:{each}')\n",
        "def rid(*args):\n",
        "  global predictors\n",
        "  for a in args:\n",
        "    if a in predictors:\n",
        "      predictors.remove(a)\n",
        "      log_info(f'Deleted:{a}')"
      ],
      "metadata": {
        "id": "TzDSRxf4eogh"
      },
      "execution_count": null,
      "outputs": []
    },
    {
      "cell_type": "code",
      "execution_count": null,
      "metadata": {
        "id": "Ct85L1R8twjl"
      },
      "outputs": [],
      "source": [
        "matches = pd.read_csv(load_file('martj42/international-football-results-from-1872-to-2017', 'results'))"
      ]
    },
    {
      "cell_type": "markdown",
      "metadata": {
        "id": "50FQalcioIbM"
      },
      "source": [
        "**PREPARING DATA FOR AI**"
      ]
    },
    {
      "cell_type": "code",
      "execution_count": null,
      "metadata": {
        "id": "-B2BDiCKw2dw"
      },
      "outputs": [],
      "source": [
        "matches['date'] = pd.to_datetime(matches['date'])"
      ]
    },
    {
      "cell_type": "code",
      "execution_count": null,
      "metadata": {
        "id": "dwbdew5i0RIj"
      },
      "outputs": [],
      "source": [
        "matches['opp_code'] = matches['away_team'].astype('category').cat.codes"
      ]
    },
    {
      "cell_type": "code",
      "execution_count": null,
      "metadata": {
        "id": "Ir1lFw1A3O_d"
      },
      "outputs": [],
      "source": [
        "matches['day_code'] = matches['date'].dt.dayofweek\n",
        "matches['goal_diff'] = matches['home_score'] - matches['away_score']"
      ]
    },
    {
      "cell_type": "code",
      "execution_count": null,
      "metadata": {
        "id": "axxmS-_X4xLv"
      },
      "outputs": [],
      "source": [
        "matches['result'] = (matches['home_score'] > matches['away_score']).astype('int')"
      ]
    },
    {
      "cell_type": "code",
      "execution_count": null,
      "metadata": {
        "id": "i-d2qVwKeC6M"
      },
      "outputs": [],
      "source": [
        "matches['is_home'] = matches['neutral'].apply(lambda x: not x).astype(bool)\n",
        "matches['tournament_id'] = matches['tournament'].astype('category').cat.codes\n",
        "matches['city_id'] = matches['city'].astype('category').cat.codes\n",
        "matches['country_id'] = matches['country'].astype('category').cat.codes"
      ]
    },
    {
      "cell_type": "markdown",
      "metadata": {
        "id": "yfIpzc4hokLr"
      },
      "source": [
        "**CALCULATE ELO**"
      ]
    },
    {
      "cell_type": "code",
      "execution_count": null,
      "metadata": {
        "id": "BMSGPCN_0PwB"
      },
      "outputs": [],
      "source": [
        "def calculate_elo(my_code, opp_code, rating_a, rating_b, res, weight=1, add_on=0):\n",
        "  K = 100\n",
        "  expected_a = 1 / (1 + 10 ** ((rating_b - rating_a) / 400))\n",
        "  new_ratinga = rating_a + weight * K*(res-expected_a)\n",
        "\n",
        "  expected_b = 1 / (1 + 10 ** ((rating_a - rating_b) / 400))\n",
        "  new_ratingb = rating_b + weight * K*(res-expected_b)\n",
        "\n",
        "  elo_ratings[my_code] = new_ratinga+add_on\n",
        "  elo_ratings[opp_code] = new_ratingb+add_on\n",
        "\n",
        "  return new_ratinga, new_ratingb"
      ]
    },
    {
      "cell_type": "markdown",
      "metadata": {
        "id": "lfd7PJhuofD3"
      },
      "source": [
        "**ADDING CODE FOR ELO TO BE CALCULATED PROPERLY FOR EACH COUNTRY**"
      ]
    },
    {
      "cell_type": "code",
      "execution_count": null,
      "metadata": {
        "id": "_yfEY4xGpvY8"
      },
      "outputs": [],
      "source": [
        "matches['elo'], matches['opp_elo'] = 2000, 2000\n",
        "matches['my_code'] = matches['home_team'].astype('category').cat.codes\n",
        "matches['opp_code'] = matches['away_team'].astype('category').cat.codes\n",
        "all_codes = pd.concat([matches['my_code'], matches['opp_code']]).unique()\n",
        "elo_ratings = dict(zip(all_codes, [2000] * len(all_codes)))"
      ]
    },
    {
      "cell_type": "code",
      "execution_count": null,
      "metadata": {
        "id": "ikoYrIUOkhwk"
      },
      "outputs": [],
      "source": [
        "matches[['elo', 'opp_elo']] = matches.apply(\n",
        "    lambda row:calculate_elo(\n",
        "        row['my_code'],\n",
        "        row['opp_code'],\n",
        "        elo_ratings[row['my_code']],\n",
        "        elo_ratings[row['opp_code']],\n",
        "        row['result'],\n",
        "        #tournament_weights[row['tournament']],\n",
        "    ),\n",
        "    axis=1,\n",
        "    result_type='expand'\n",
        ")"
      ]
    },
    {
      "cell_type": "markdown",
      "metadata": {
        "id": "jG6qiv4aIh27"
      },
      "source": [
        "STORE INFO TO COMPARE LATER"
      ]
    },
    {
      "cell_type": "code",
      "execution_count": null,
      "metadata": {
        "id": "Y4ZLjcwcGfYV"
      },
      "outputs": [],
      "source": [
        "import logging\n",
        "\n",
        "# Create and configure logger\n",
        "logging.basicConfig(filename=\"accuracies.log\",\n",
        "                    format='%(asctime)s %(message)s',\n",
        "                    filemode='a',\n",
        "                    force=True # Reset previous settings\n",
        "                    )\n",
        "\n",
        "# Creating an object\n",
        "logger = logging.getLogger()\n",
        "\n",
        "# Setting the threshold of logger to INFO\n",
        "logger.setLevel(logging.INFO)"
      ]
    },
    {
      "cell_type": "code",
      "execution_count": null,
      "metadata": {
        "id": "CiMhhO7gGFjM"
      },
      "outputs": [],
      "source": [
        "def log_info(*args):\n",
        "  for arg in args:\n",
        "    logger.info(arg)\n",
        "    logger.info('--------------------------------------------------------------')\n",
        "  logger.info('---------------------------------------------------------------------------------')"
      ]
    },
    {
      "cell_type": "markdown",
      "metadata": {
        "id": "mRxdRHGPooqK"
      },
      "source": [
        "**FUNC TO ALWAYS CHECK IF CHANGES DONE HAD ANY RESULT ON ACC OR PRECISION**"
      ]
    },
    {
      "cell_type": "code",
      "execution_count": null,
      "metadata": {
        "id": "Zh2QaQSS236Z"
      },
      "outputs": [],
      "source": [
        "def check_predictions(matches, predictors):\n",
        "  X_train, X_test, y_train, y_test = train_test_split(\n",
        "      matches[predictors].values,\n",
        "      matches['result'].values,\n",
        "      test_size=0.2,\n",
        "      random_state=42\n",
        "  )\n",
        "  dtrain = xgb.DMatrix(X_train, label=y_train, feature_names=predictors)\n",
        "  rf.fit(X_train, y_train)\n",
        "  preds = rf.predict(X_test)\n",
        "  combined = pd.DataFrame(dict(actual=y_test, predicted=preds))\n",
        "  acc = f'Accurasy score: {accuracy_score(y_test, preds)}'\n",
        "  prec = f'Precision score: {precision_score(y_test, preds)}'\n",
        "  recall = f'Recall score: {recall_score(y_test, preds)}'\n",
        "  f1 = f'F1 score: {f1_score(y_test, preds)}'\n",
        "  print(acc)\n",
        "  print(prec)\n",
        "  print(recall)\n",
        "  print(f1)\n",
        "  log_info(acc, prec, recall, f1)"
      ]
    },
    {
      "cell_type": "code",
      "execution_count": null,
      "metadata": {
        "id": "3Fup6Go_ajA0",
        "colab": {
          "base_uri": "https://localhost:8080/"
        },
        "outputId": "67220542-c6ee-41df-8333-ddb827d1eb02"
      },
      "outputs": [
        {
          "output_type": "stream",
          "name": "stdout",
          "text": [
            "Downloading from https://www.kaggle.com/api/v1/datasets/download/cashncarry/fifaworldranking?dataset_version_number=15...\n"
          ]
        },
        {
          "output_type": "stream",
          "name": "stderr",
          "text": [
            "100%|██████████| 1.69M/1.69M [00:00<00:00, 39.6MB/s]"
          ]
        },
        {
          "output_type": "stream",
          "name": "stdout",
          "text": [
            "Extracting files...\n"
          ]
        },
        {
          "output_type": "stream",
          "name": "stderr",
          "text": [
            "\n"
          ]
        }
      ],
      "source": [
        "fifa_ranking = pd.read_csv(load_file('cashncarry/fifaworldranking', 'fifa_ranking-2024-06-20'))"
      ]
    },
    {
      "cell_type": "markdown",
      "metadata": {
        "id": "nTuCTYODo0U-"
      },
      "source": [
        "**PREPARING FIFA RANKING TABLE TO MERGE WITH MY ELO SYSTEM**"
      ]
    },
    {
      "cell_type": "code",
      "execution_count": null,
      "metadata": {
        "colab": {
          "base_uri": "https://localhost:8080/"
        },
        "id": "hiEbL1E7pKil",
        "outputId": "2f1288df-f11d-4311-f5ce-cb7ed14ddc57"
      },
      "outputs": [
        {
          "output_type": "stream",
          "name": "stdout",
          "text": [
            "Accurasy score: 0.7118855009334163\n",
            "Precision score: 0.7058442958809575\n",
            "Recall score: 0.6983144868786004\n",
            "F1 score: 0.702059202059202\n"
          ]
        }
      ],
      "source": [
        "fifa_ranking = fifa_ranking.rename(columns={\n",
        "    'country_full': 'home_team',\n",
        "    'rank': 'home_fifa_rank',\n",
        "    'rank_date': 'date'\n",
        "})\n",
        "matches['date'] = pd.to_datetime(matches['date'])\n",
        "fifa_ranking['date'] = pd.to_datetime(fifa_ranking['date'])\n",
        "add('my_code', 'elo', 'opp_elo', 'opp_code', 'day_code', 'neutral', 'tournament_id', 'city_id', 'country_id')\n",
        "check_predictions(matches, predictors)"
      ]
    },
    {
      "cell_type": "code",
      "execution_count": null,
      "metadata": {
        "id": "CNUn2l9_oSdH"
      },
      "outputs": [],
      "source": [
        "fifa_ranking_away = fifa_ranking.rename(columns={\n",
        "    'home_team': 'away_team',\n",
        "    'home_fifa_rank': 'away_fifa_rank',\n",
        "    'previous_points': 'away_previous'\n",
        "})\n",
        "rankings_merged = pd.merge_asof(\n",
        "    matches.sort_values('date'),\n",
        "    fifa_ranking.sort_values('date'),\n",
        "    on='date',\n",
        "    by='home_team',\n",
        "    direction='backward')\n",
        "rankings_merged = pd.merge_asof(\n",
        "    rankings_merged.sort_values('date'),\n",
        "    fifa_ranking_away.sort_values('date'),\n",
        "    on='date',\n",
        "    by='away_team',\n",
        "    direction='backward'\n",
        ")\n",
        "rankings_merged['fifa_rank_diff'] = rankings_merged['home_fifa_rank'] - rankings_merged['away_fifa_rank']\n",
        "rankings_merged['previous_diff'] = rankings_merged['previous_points'] - rankings_merged['away_previous']"
      ]
    },
    {
      "cell_type": "code",
      "execution_count": null,
      "metadata": {
        "colab": {
          "base_uri": "https://localhost:8080/"
        },
        "id": "O2powNGQpqhd",
        "outputId": "196f65c2-1851-4897-f32b-9c5312b69fdc"
      },
      "outputs": [
        {
          "output_type": "stream",
          "name": "stdout",
          "text": [
            "Accurasy score: 0.7310723916199958\n",
            "Precision score: 0.7286670987254267\n",
            "Recall score: 0.7161358811040339\n",
            "F1 score: 0.722347146375415\n"
          ]
        }
      ],
      "source": [
        "add('home_fifa_rank', 'previous_points',)\n",
        "check_predictions(rankings_merged, predictors)"
      ]
    },
    {
      "cell_type": "code",
      "execution_count": null,
      "metadata": {
        "id": "HzJoMx1X5MN4",
        "colab": {
          "base_uri": "https://localhost:8080/"
        },
        "outputId": "54b7b3a3-31ac-40e9-f8bb-f9ac80208c2c"
      },
      "outputs": [
        {
          "output_type": "stream",
          "name": "stdout",
          "text": [
            "Downloading from https://www.kaggle.com/api/v1/datasets/download/piterfm/fifa-football-world-cup?dataset_version_number=24...\n"
          ]
        },
        {
          "output_type": "stream",
          "name": "stderr",
          "text": [
            "100%|██████████| 180k/180k [00:00<00:00, 29.8MB/s]"
          ]
        },
        {
          "output_type": "stream",
          "name": "stdout",
          "text": [
            "Extracting files...\n"
          ]
        },
        {
          "output_type": "stream",
          "name": "stderr",
          "text": [
            "\n"
          ]
        }
      ],
      "source": [
        "more_data = pd.read_csv(load_file('piterfm/fifa-football-world-cup', 'matches_1930_2022'))"
      ]
    },
    {
      "cell_type": "code",
      "execution_count": null,
      "metadata": {
        "id": "qP8dRp2KK29s"
      },
      "outputs": [],
      "source": [
        "more_data = more_data.rename(columns={\n",
        "    'Date': 'date'\n",
        "})\n",
        "more_data['date'] = pd.to_datetime(more_data['date'])\n",
        "\n",
        "rankings_merged = pd.merge(\n",
        "    more_data.sort_values('date'),\n",
        "    rankings_merged.sort_values('date'),\n",
        "    on=['date', 'home_team', 'away_team'],\n",
        ")"
      ]
    },
    {
      "cell_type": "code",
      "execution_count": null,
      "metadata": {
        "id": "-Rjgz_BhZecL"
      },
      "outputs": [],
      "source": [
        "def top_teams(N, matches):\n",
        "  top_teams = sorted(elo_ratings.items(), key=lambda x: x[1], reverse=True)[:N]\n",
        "  for id, elo in top_teams:\n",
        "    name = matches[matches['my_code']==id]['home_team']\n",
        "    print(f'{name}:{elo}')"
      ]
    },
    {
      "cell_type": "code",
      "source": [
        "rankings_merged['home_rolling_diff'] = (\n",
        "    rankings_merged.groupby('home_team')['home_score_x']\n",
        "    .rolling(window=5, min_periods=1)\n",
        "    .sum()\n",
        "    .shift(1)\n",
        "    .reset_index(level=0, drop=True)\n",
        ")\n",
        "rankings_merged['away_rolling_diff'] = (\n",
        "    rankings_merged.groupby('away_team')['away_score_x']\n",
        "    .rolling(window=5, min_periods=1)\n",
        "    .sum()\n",
        "    .shift(1)\n",
        "    .reset_index(level=0, drop=True)\n",
        ")"
      ],
      "metadata": {
        "id": "m4WNjMJgivb7"
      },
      "execution_count": null,
      "outputs": []
    },
    {
      "cell_type": "code",
      "source": [
        " add('home_rolling_diff',\n",
        "    'away_rolling_diff',\n",
        ")\n",
        "check_predictions(rankings_merged, predictors)"
      ],
      "metadata": {
        "colab": {
          "base_uri": "https://localhost:8080/"
        },
        "id": "GPZ5dHSncrBN",
        "outputId": "02fccb64-3d0d-40ab-8669-2428901d2850"
      },
      "execution_count": null,
      "outputs": [
        {
          "output_type": "stream",
          "name": "stdout",
          "text": [
            "Accurasy score: 0.7956204379562044\n",
            "Precision score: 0.8076923076923077\n",
            "Recall score: 0.8289473684210527\n",
            "F1 score: 0.8181818181818182\n"
          ]
        }
      ]
    },
    {
      "cell_type": "code",
      "source": [
        "rankings_merged['away_days_since_last_game'] = rankings_merged.groupby('away_team')['date'].diff().dt.days\n",
        "add('away_days_since_last_game')\n",
        "check_predictions(rankings_merged, predictors)"
      ],
      "metadata": {
        "colab": {
          "base_uri": "https://localhost:8080/"
        },
        "id": "JnbFA2Bqda00",
        "outputId": "6dec2210-8f61-4883-bc1b-268a589a5c40"
      },
      "execution_count": null,
      "outputs": [
        {
          "output_type": "stream",
          "name": "stdout",
          "text": [
            "Accurasy score: 0.7956204379562044\n",
            "Precision score: 0.8076923076923077\n",
            "Recall score: 0.8289473684210527\n",
            "F1 score: 0.8181818181818182\n"
          ]
        }
      ]
    },
    {
      "cell_type": "code",
      "source": [
        "rankings_merged['rolling_form'] = (\n",
        "    rankings_merged.groupby('home_team')['home_xg']\n",
        "    .rolling(window=5, min_periods=1)\n",
        "    .mean()\n",
        "    .shift(1)\n",
        "    .reset_index(level=0, drop=True)\n",
        ")\n",
        "rankings_merged['rolling_form_away'] = (\n",
        "    rankings_merged.groupby('away_team')['away_xg']\n",
        "    .rolling(window=5, min_periods=1)\n",
        "    .mean()\n",
        "    .shift(1)\n",
        "    .reset_index(level=0, drop=True)\n",
        ")"
      ],
      "metadata": {
        "id": "P-3z_FXWj3cV"
      },
      "execution_count": null,
      "outputs": []
    },
    {
      "cell_type": "code",
      "source": [
        "predictors"
      ],
      "metadata": {
        "colab": {
          "base_uri": "https://localhost:8080/"
        },
        "id": "8lh3gmsTf4Cj",
        "outputId": "7dcec720-ce49-472e-d29e-695eaeb2baae"
      },
      "execution_count": null,
      "outputs": [
        {
          "output_type": "execute_result",
          "data": {
            "text/plain": [
              "['my_code',\n",
              " 'elo',\n",
              " 'opp_elo',\n",
              " 'opp_code',\n",
              " 'day_code',\n",
              " 'neutral',\n",
              " 'tournament_id',\n",
              " 'city_id',\n",
              " 'country_id',\n",
              " 'home_fifa_rank',\n",
              " 'previous_points',\n",
              " 'home_rolling_diff',\n",
              " 'away_rolling_diff',\n",
              " 'away_days_since_last_game']"
            ]
          },
          "metadata": {},
          "execution_count": 60
        }
      ]
    },
    {
      "cell_type": "code",
      "source": [
        "plot_importance(rf, importance_type='weight')\n",
        "plt.show()\n",
        "for i in range(len(predictors)):\n",
        "  print(f'feauture {i} is {predictors[i]}')"
      ],
      "metadata": {
        "colab": {
          "base_uri": "https://localhost:8080/",
          "height": 715
        },
        "id": "KNBqepry9Mls",
        "outputId": "f595a720-ee94-4597-b6f0-b23c13326ae2"
      },
      "execution_count": null,
      "outputs": [
        {
          "output_type": "display_data",
          "data": {
            "text/plain": [
              "<Figure size 640x480 with 1 Axes>"
            ],
            "image/png": "[encoded data removed]"
          },
          "metadata": {}
        },
        {
          "output_type": "stream",
          "name": "stdout",
          "text": [
            "feauture 0 is my_code\n",
            "feauture 1 is elo\n",
            "feauture 2 is opp_elo\n",
            "feauture 3 is opp_code\n",
            "feauture 4 is day_code\n",
            "feauture 5 is neutral\n",
            "feauture 6 is tournament_id\n",
            "feauture 7 is city_id\n",
            "feauture 8 is country_id\n",
            "feauture 9 is home_fifa_rank\n",
            "feauture 10 is previous_points\n",
            "feauture 11 is home_rolling_diff\n",
            "feauture 12 is away_rolling_diff\n",
            "feauture 13 is away_days_since_last_game\n"
          ]
        }
      ]
    },
    {
      "cell_type": "code",
      "source": [],
      "metadata": {
        "id": "92ZmUbfMFAvv"
      },
      "execution_count": null,
      "outputs": []
    }
  ],
  "metadata": {
    "colab": {
      "provenance": [],
      "authorship_tag": "ABX9TyOUTiend+6BbMq8PFa/dUv5",
      "include_colab_link": true
    },
    "kernelspec": {
      "display_name": "Python 3",
      "name": "python3"
    },
    "language_info": {
      "name": "python"
    }
  },
  "nbformat": 4,
  "nbformat_minor": 0
}