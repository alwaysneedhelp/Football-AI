{
  "cells": [
    {
      "cell_type": "markdown",
      "metadata": {
        "id": "view-in-github",
        "colab_type": "text"
      },
      "source": [
        "<a href=\"https://colab.research.google.com/github/alwaysneedhelp/Football-AI/blob/main/Football.ipynb\" target=\"_parent\"><img src=\"https://colab.research.google.com/assets/colab-badge.svg\" alt=\"Open In Colab\"/></a>"
      ]
    },
    {
      "cell_type": "code",
      "execution_count": 134,
      "metadata": {
        "id": "PlvFbkpvtNVk"
      },
      "outputs": [],
      "source": [
        "import pandas as pd\n",
        "import kagglehub\n",
        "import os"
      ]
    },
    {
      "cell_type": "code",
      "execution_count": 135,
      "metadata": {
        "id": "lK4m0lci17z0"
      },
      "outputs": [],
      "source": [
        "def load_file(link, name):\n",
        "  path = kagglehub.dataset_download(link)\n",
        "  path = os.path.join(path, f'{name}.csv')\n",
        "  return path"
      ]
    },
    {
      "cell_type": "code",
      "execution_count": 136,
      "metadata": {
        "id": "Ct85L1R8twjl"
      },
      "outputs": [],
      "source": [
        "matches = pd.read_csv(load_file('martj42/international-football-results-from-1872-to-2017', 'results'))"
      ]
    },
    {
      "cell_type": "markdown",
      "metadata": {
        "id": "50FQalcioIbM"
      },
      "source": [
        "**PREPARING DATA FOR AI**"
      ]
    },
    {
      "cell_type": "code",
      "execution_count": 137,
      "metadata": {
        "id": "-B2BDiCKw2dw"
      },
      "outputs": [],
      "source": [
        "matches['date'] = pd.to_datetime(matches['date'])"
      ]
    },
    {
      "cell_type": "code",
      "execution_count": 138,
      "metadata": {
        "id": "dwbdew5i0RIj"
      },
      "outputs": [],
      "source": [
        "matches['opp_code'] = matches['away_team'].astype('category').cat.codes"
      ]
    },
    {
      "cell_type": "code",
      "execution_count": 139,
      "metadata": {
        "id": "Ir1lFw1A3O_d"
      },
      "outputs": [],
      "source": [
        "matches['day_code'] = matches['date'].dt.dayofweek\n",
        "matches['goal_diff'] = matches['home_score'] - matches['away_score']"
      ]
    },
    {
      "cell_type": "code",
      "execution_count": 140,
      "metadata": {
        "id": "axxmS-_X4xLv"
      },
      "outputs": [],
      "source": [
        "matches['result'] = (matches['home_score'] > matches['away_score']).astype('int')"
      ]
    },
    {
      "cell_type": "code",
      "execution_count": 141,
      "metadata": {
        "id": "i-d2qVwKeC6M"
      },
      "outputs": [],
      "source": [
        "matches['neutral'] = matches['neutral'].apply(lambda x: not x).astype(int)\n",
        "matches['tournament_id'] = matches['tournament'].astype('category').cat.codes\n",
        "matches['city_id'] = matches['city'].astype('category').cat.codes\n",
        "matches['country_id'] = matches['country'].astype('category').cat.codes"
      ]
    },
    {
      "cell_type": "markdown",
      "metadata": {
        "id": "Nft__1sDoT_3"
      },
      "source": [
        "**PRIORITIZING TOURNAMENTS**"
      ]
    },
    {
      "cell_type": "code",
      "execution_count": 141,
      "metadata": {
        "id": "fIzNT5zMQsV3"
      },
      "outputs": [],
      "source": []
    },
    {
      "cell_type": "code",
      "execution_count": 142,
      "metadata": {
        "id": "SGR3MeLj5FOi"
      },
      "outputs": [],
      "source": [
        "import xgboost as xgb\n",
        "from sklearn.model_selection import train_test_split\n",
        "from sklearn.impute import SimpleImputer\n",
        "from sklearn.metrics import accuracy_score, precision_score, recall_score, f1_score"
      ]
    },
    {
      "cell_type": "code",
      "execution_count": 143,
      "metadata": {
        "id": "pG76JQbJ5O05"
      },
      "outputs": [],
      "source": [
        "rf = xgb.XGBClassifier()"
      ]
    },
    {
      "cell_type": "markdown",
      "metadata": {
        "id": "yfIpzc4hokLr"
      },
      "source": [
        "**CALCULATE ELO**"
      ]
    },
    {
      "cell_type": "code",
      "execution_count": 144,
      "metadata": {
        "id": "BMSGPCN_0PwB"
      },
      "outputs": [],
      "source": [
        "def calculate_elo(my_code, opp_code, rating_a, rating_b, res, weight=1, add_on=0):\n",
        "  K = 100\n",
        "  expected_a = 1 / (1 + 10 ** ((rating_b - rating_a) / 400))\n",
        "  new_ratinga = rating_a + weight * K*(res-expected_a)\n",
        "\n",
        "  expected_b = 1 / (1 + 10 ** ((rating_a - rating_b) / 400))\n",
        "  new_ratingb = rating_b + weight * K*(res-expected_b)\n",
        "\n",
        "  elo_ratings[my_code] = new_ratinga+add_on\n",
        "  elo_ratings[opp_code] = new_ratingb+add_on\n",
        "\n",
        "  return new_ratinga, new_ratingb"
      ]
    },
    {
      "cell_type": "markdown",
      "metadata": {
        "id": "lfd7PJhuofD3"
      },
      "source": [
        "**ADDING CODE FOR ELO TO BE CALCULATED PROPERLY FOR EACH COUNTRY**"
      ]
    },
    {
      "cell_type": "code",
      "execution_count": 145,
      "metadata": {
        "id": "_yfEY4xGpvY8"
      },
      "outputs": [],
      "source": [
        "matches['elo'], matches['opp_elo'] = 2000, 2000\n",
        "matches['my_code'] = matches['home_team'].astype('category').cat.codes\n",
        "matches['opp_code'] = matches['away_team'].astype('category').cat.codes\n",
        "all_codes = pd.concat([matches['my_code'], matches['opp_code']]).unique()\n",
        "elo_ratings = dict(zip(all_codes, [2000] * len(all_codes)))"
      ]
    },
    {
      "cell_type": "code",
      "execution_count": 146,
      "metadata": {
        "id": "ikoYrIUOkhwk"
      },
      "outputs": [],
      "source": [
        "matches[['elo', 'opp_elo']] = matches.apply(\n",
        "    lambda row:calculate_elo(\n",
        "        row['my_code'],\n",
        "        row['opp_code'],\n",
        "        elo_ratings[row['my_code']],\n",
        "        elo_ratings[row['opp_code']],\n",
        "        row['result'],\n",
        "        #tournament_weights[row['tournament']],\n",
        "    ),\n",
        "    axis=1,\n",
        "    result_type='expand'\n",
        ")"
      ]
    },
    {
      "cell_type": "markdown",
      "metadata": {
        "id": "jG6qiv4aIh27"
      },
      "source": [
        "STORE INFO TO COMPARE LATER"
      ]
    },
    {
      "cell_type": "code",
      "execution_count": 147,
      "metadata": {
        "id": "Y4ZLjcwcGfYV"
      },
      "outputs": [],
      "source": [
        "import logging\n",
        "\n",
        "# Create and configure logger\n",
        "logging.basicConfig(filename=\"accuracies.log\",\n",
        "                    format='%(asctime)s %(message)s',\n",
        "                    filemode='a',\n",
        "                    force=True # Reset previous settings\n",
        "                    )\n",
        "\n",
        "# Creating an object\n",
        "logger = logging.getLogger()\n",
        "\n",
        "# Setting the threshold of logger to INFO\n",
        "logger.setLevel(logging.INFO)"
      ]
    },
    {
      "cell_type": "code",
      "execution_count": 148,
      "metadata": {
        "id": "CiMhhO7gGFjM"
      },
      "outputs": [],
      "source": [
        "def log_info(*args):\n",
        "  for arg in args:\n",
        "    logger.info(arg)\n",
        "    logger.info('--------------------------------------------------------------')\n",
        "  logger.info('---------------------------------------------------------------------------------')"
      ]
    },
    {
      "cell_type": "markdown",
      "metadata": {
        "id": "mRxdRHGPooqK"
      },
      "source": [
        "**FUNC TO ALWAYS CHECK IF CHANGES DONE HAD ANY RESULT ON ACC OR PRECISION**"
      ]
    },
    {
      "cell_type": "code",
      "execution_count": 151,
      "metadata": {
        "id": "Zh2QaQSS236Z"
      },
      "outputs": [],
      "source": [
        "def check_predictions(matches, predictors):\n",
        "  X_train, X_test, y_train, y_test = train_test_split(\n",
        "      matches[predictors].values,\n",
        "      matches['result'].values,\n",
        "      test_size=0.2,\n",
        "      random_state=42\n",
        "  )\n",
        "  rf.fit(X_train, y_train)\n",
        "  preds = rf.predict(X_test)\n",
        "  combined = pd.DataFrame(dict(actual=y_test, predicted=preds))\n",
        "  acc = accuracy_score(y_test, preds)\n",
        "  prec = precision_score(y_test, preds)\n",
        "  recall = recall_score(y_test, preds)\n",
        "  f1 = f1_score(y_test, preds)\n",
        "  print(f'Accurasy score: {acc}')\n",
        "  print(f'Precision score: {prec}')\n",
        "  print(f'Recall score: {recall}')\n",
        "  print(f'F1 score: {f1}')\n",
        "  log_info(acc, prec, recall, f1)"
      ]
    },
    {
      "cell_type": "code",
      "execution_count": 152,
      "metadata": {
        "id": "3Fup6Go_ajA0"
      },
      "outputs": [],
      "source": [
        "fifa_ranking = pd.read_csv(load_file('cashncarry/fifaworldranking', 'fifa_ranking-2024-06-20'))"
      ]
    },
    {
      "cell_type": "markdown",
      "metadata": {
        "id": "nTuCTYODo0U-"
      },
      "source": [
        "**PREPARING FIFA RANKING TABLE TO MERGE WITH MY ELO SYSTEM**"
      ]
    },
    {
      "cell_type": "code",
      "execution_count": 153,
      "metadata": {
        "colab": {
          "base_uri": "https://localhost:8080/"
        },
        "id": "hiEbL1E7pKil",
        "outputId": "654835e7-bfd7-41e1-8aee-d26520611064"
      },
      "outputs": [
        {
          "output_type": "stream",
          "name": "stdout",
          "text": [
            "Accurasy score: 0.7082555486413608\n",
            "Precision score: 0.7044066317626527\n",
            "Recall score: 0.6889268188606785\n",
            "F1 score: 0.6965807356272247\n"
          ]
        }
      ],
      "source": [
        "fifa_ranking = fifa_ranking.rename(columns={\n",
        "    'country_full': 'home_team',\n",
        "    'rank': 'home_fifa_rank',\n",
        "    'rank_date': 'date'\n",
        "})\n",
        "matches['date'] = pd.to_datetime(matches['date'])\n",
        "fifa_ranking['date'] = pd.to_datetime(fifa_ranking['date'])\n",
        "predictors = ['my_code', 'elo', 'opp_elo', 'opp_code', 'day_code', 'neutral', 'tournament_id', 'city_id', 'country_id']\n",
        "check_predictions(matches, predictors)"
      ]
    },
    {
      "cell_type": "code",
      "execution_count": 154,
      "metadata": {
        "id": "CNUn2l9_oSdH"
      },
      "outputs": [],
      "source": [
        "rankings_merged = pd.merge_asof(\n",
        "    matches.sort_values('date'),\n",
        "    fifa_ranking.sort_values('date'),\n",
        "    on='date',\n",
        "    by='home_team',\n",
        "    direction='backward')"
      ]
    },
    {
      "cell_type": "code",
      "execution_count": 155,
      "metadata": {
        "colab": {
          "base_uri": "https://localhost:8080/"
        },
        "id": "O2powNGQpqhd",
        "outputId": "7645fa99-495f-4e6a-a8cb-11c700f3d0f2"
      },
      "outputs": [
        {
          "output_type": "stream",
          "name": "stdout",
          "text": [
            "Accurasy score: 0.7365691765193944\n",
            "Precision score: 0.7297356346952152\n",
            "Recall score: 0.719362481154426\n",
            "F1 score: 0.7245119305856833\n"
          ]
        }
      ],
      "source": [
        "predictors.extend(['home_fifa_rank', 'previous_points'])\n",
        "check_predictions(rankings_merged, predictors)"
      ]
    },
    {
      "cell_type": "code",
      "execution_count": 156,
      "metadata": {
        "id": "HzJoMx1X5MN4"
      },
      "outputs": [],
      "source": [
        "more_data = pd.read_csv(load_file('piterfm/fifa-football-world-cup', 'matches_1930_2022'))"
      ]
    },
    {
      "cell_type": "code",
      "execution_count": 157,
      "metadata": {
        "id": "qP8dRp2KK29s"
      },
      "outputs": [],
      "source": [
        "more_data = more_data.rename(columns={\n",
        "    'Date': 'date'\n",
        "})\n",
        "more_data['date'] = pd.to_datetime(more_data['date'])\n",
        "\n",
        "rankings_merged = pd.merge(\n",
        "    more_data.sort_values('date'),\n",
        "    rankings_merged.sort_values('date'),\n",
        "    on=['date', 'home_team', 'away_team'],\n",
        ")"
      ]
    },
    {
      "cell_type": "code",
      "execution_count": 178,
      "metadata": {
        "id": "-Rjgz_BhZecL"
      },
      "outputs": [],
      "source": [
        "def top_teams(N, matches):\n",
        "  top_teams = sorted(elo_ratings.items(), key=lambda x: x[1], reverse=True)[:N]\n",
        "  for id, elo in top_teams:\n",
        "    name = matches[matches['elo']==elo]['home_team']\n",
        "    print(f'{name}:{elo}')"
      ]
    },
    {
      "cell_type": "code",
      "source": [],
      "metadata": {
        "colab": {
          "base_uri": "https://localhost:8080/",
          "height": 443
        },
        "id": "_VA65cU5YPmV",
        "outputId": "14746e46-ab69-44ed-afc3-d38d32e25bc6"
      },
      "execution_count": 181,
      "outputs": [
        {
          "output_type": "execute_result",
          "data": {
            "text/plain": [
              "     home_team away_team  home_score_x  home_xg  home_penalty  away_score_x  \\\n",
              "0       France    Mexico             4      NaN           NaN             1   \n",
              "1    Argentina    France             1      NaN           NaN             0   \n",
              "2        Chile    Mexico             3      NaN           NaN             0   \n",
              "3      Uruguay      Peru             1      NaN           NaN             0   \n",
              "4    Argentina    Mexico             6      NaN           NaN             3   \n",
              "..         ...       ...           ...      ...           ...           ...   \n",
              "676    Morocco  Portugal             1      1.4           NaN             0   \n",
              "677  Argentina   Croatia             3      2.3           NaN             0   \n",
              "678     France   Morocco             2      2.0           NaN             0   \n",
              "679    Croatia   Morocco             2      0.7           NaN             1   \n",
              "680  Argentina    France             3      3.3           4.0             3   \n",
              "\n",
              "     away_xg  away_penalty      home_manager          home_captain  ...  \\\n",
              "0        NaN           NaN     Raoul Caudron  Alexandre Villaplane  ...   \n",
              "1        NaN           NaN  Francisco Olazar       Manuel Ferreira  ...   \n",
              "2        NaN           NaN       Gyorgy Orth   Carlos Schneeberger  ...   \n",
              "3        NaN           NaN   Alberto Suppici          José Nasazzi  ...   \n",
              "4        NaN           NaN  Francisco Olazar          Ángel Bossio  ...   \n",
              "..       ...           ...               ...                   ...  ...   \n",
              "676      0.9           NaN   Hoalid Regragui          Romain Saïss  ...   \n",
              "677      0.5           NaN    Lionel Scaloni          Lionel Messi  ...   \n",
              "678      0.9           NaN  Didier Deschamps           Hugo Lloris  ...   \n",
              "679      1.2           NaN      Zlatko Dalić           Luka Modrić  ...   \n",
              "680      2.2           2.0    Lionel Scaloni          Lionel Messi  ...   \n",
              "\n",
              "    country_id          elo      opp_elo my_code home_fifa_rank country_abrv  \\\n",
              "0          251  2023.584370  2085.591187      97            NaN          NaN   \n",
              "1          251  2354.122104  2384.759453      12            NaN          NaN   \n",
              "2          251  1979.013239  2111.731630      58            NaN          NaN   \n",
              "3          251  2111.812396  2191.350719     300            NaN          NaN   \n",
              "4          251  2373.978216  2191.875518      12            NaN          NaN   \n",
              "..         ...          ...          ...     ...            ...          ...   \n",
              "676        189  1920.251918  1956.362181     185           22.0          MAR   \n",
              "677        189  1907.734749  1481.098674      12            3.0          ARG   \n",
              "678        189  1721.819082  1716.619141      97            4.0          FRA   \n",
              "679        189  1624.221157  1744.576076      67           12.0          CRO   \n",
              "680        189  1812.141205  1368.792627      12            3.0          ARG   \n",
              "\n",
              "    total_points previous_points rank_change confederation  \n",
              "0            NaN             NaN         NaN           NaN  \n",
              "1            NaN             NaN         NaN           NaN  \n",
              "2            NaN             NaN         NaN           NaN  \n",
              "3            NaN             NaN         NaN           NaN  \n",
              "4            NaN             NaN         NaN           NaN  \n",
              "..           ...             ...         ...           ...  \n",
              "676      1563.50         1558.35        -1.0           CAF  \n",
              "677      1773.88         1770.65         0.0      CONMEBOL  \n",
              "678      1759.78         1764.85         0.0          UEFA  \n",
              "679      1645.64         1632.15        -3.0          UEFA  \n",
              "680      1773.88         1770.65         0.0      CONMEBOL  \n",
              "\n",
              "[681 rows x 66 columns]"
            ],
            "text/html": [
              "\n",
              "  <div id=\"df-4588fd7d-8c00-4ebf-8774-b4eaa7bccea0\" class=\"colab-df-container\">\n",
              "    <div>\n",
              "<style scoped>\n",
              "    .dataframe tbody tr th:only-of-type {\n",
              "        vertical-align: middle;\n",
              "    }\n",
              "\n",
              "    .dataframe tbody tr th {\n",
              "        vertical-align: top;\n",
              "    }\n",
              "\n",
              "    .dataframe thead th {\n",
              "        text-align: right;\n",
              "    }\n",
              "</style>\n",
              "<table border=\"1\" class=\"dataframe\">\n",
              "  <thead>\n",
              "    <tr style=\"text-align: right;\">\n",
              "      <th></th>\n",
              "      <th>home_team</th>\n",
              "      <th>away_team</th>\n",
              "      <th>home_score_x</th>\n",
              "      <th>home_xg</th>\n",
              "      <th>home_penalty</th>\n",
              "      <th>away_score_x</th>\n",
              "      <th>away_xg</th>\n",
              "      <th>away_penalty</th>\n",
              "      <th>home_manager</th>\n",
              "      <th>home_captain</th>\n",
              "      <th>...</th>\n",
              "      <th>country_id</th>\n",
              "      <th>elo</th>\n",
              "      <th>opp_elo</th>\n",
              "      <th>my_code</th>\n",
              "      <th>home_fifa_rank</th>\n",
              "      <th>country_abrv</th>\n",
              "      <th>total_points</th>\n",
              "      <th>previous_points</th>\n",
              "      <th>rank_change</th>\n",
              "      <th>confederation</th>\n",
              "    </tr>\n",
              "  </thead>\n",
              "  <tbody>\n",
              "    <tr>\n",
              "      <th>0</th>\n",
              "      <td>France</td>\n",
              "      <td>Mexico</td>\n",
              "      <td>4</td>\n",
              "      <td>NaN</td>\n",
              "      <td>NaN</td>\n",
              "      <td>1</td>\n",
              "      <td>NaN</td>\n",
              "      <td>NaN</td>\n",
              "      <td>Raoul Caudron</td>\n",
              "      <td>Alexandre Villaplane</td>\n",
              "      <td>...</td>\n",
              "      <td>251</td>\n",
              "      <td>2023.584370</td>\n",
              "      <td>2085.591187</td>\n",
              "      <td>97</td>\n",
              "      <td>NaN</td>\n",
              "      <td>NaN</td>\n",
              "      <td>NaN</td>\n",
              "      <td>NaN</td>\n",
              "      <td>NaN</td>\n",
              "      <td>NaN</td>\n",
              "    </tr>\n",
              "    <tr>\n",
              "      <th>1</th>\n",
              "      <td>Argentina</td>\n",
              "      <td>France</td>\n",
              "      <td>1</td>\n",
              "      <td>NaN</td>\n",
              "      <td>NaN</td>\n",
              "      <td>0</td>\n",
              "      <td>NaN</td>\n",
              "      <td>NaN</td>\n",
              "      <td>Francisco Olazar</td>\n",
              "      <td>Manuel Ferreira</td>\n",
              "      <td>...</td>\n",
              "      <td>251</td>\n",
              "      <td>2354.122104</td>\n",
              "      <td>2384.759453</td>\n",
              "      <td>12</td>\n",
              "      <td>NaN</td>\n",
              "      <td>NaN</td>\n",
              "      <td>NaN</td>\n",
              "      <td>NaN</td>\n",
              "      <td>NaN</td>\n",
              "      <td>NaN</td>\n",
              "    </tr>\n",
              "    <tr>\n",
              "      <th>2</th>\n",
              "      <td>Chile</td>\n",
              "      <td>Mexico</td>\n",
              "      <td>3</td>\n",
              "      <td>NaN</td>\n",
              "      <td>NaN</td>\n",
              "      <td>0</td>\n",
              "      <td>NaN</td>\n",
              "      <td>NaN</td>\n",
              "      <td>Gyorgy Orth</td>\n",
              "      <td>Carlos Schneeberger</td>\n",
              "      <td>...</td>\n",
              "      <td>251</td>\n",
              "      <td>1979.013239</td>\n",
              "      <td>2111.731630</td>\n",
              "      <td>58</td>\n",
              "      <td>NaN</td>\n",
              "      <td>NaN</td>\n",
              "      <td>NaN</td>\n",
              "      <td>NaN</td>\n",
              "      <td>NaN</td>\n",
              "      <td>NaN</td>\n",
              "    </tr>\n",
              "    <tr>\n",
              "      <th>3</th>\n",
              "      <td>Uruguay</td>\n",
              "      <td>Peru</td>\n",
              "      <td>1</td>\n",
              "      <td>NaN</td>\n",
              "      <td>NaN</td>\n",
              "      <td>0</td>\n",
              "      <td>NaN</td>\n",
              "      <td>NaN</td>\n",
              "      <td>Alberto Suppici</td>\n",
              "      <td>José Nasazzi</td>\n",
              "      <td>...</td>\n",
              "      <td>251</td>\n",
              "      <td>2111.812396</td>\n",
              "      <td>2191.350719</td>\n",
              "      <td>300</td>\n",
              "      <td>NaN</td>\n",
              "      <td>NaN</td>\n",
              "      <td>NaN</td>\n",
              "      <td>NaN</td>\n",
              "      <td>NaN</td>\n",
              "      <td>NaN</td>\n",
              "    </tr>\n",
              "    <tr>\n",
              "      <th>4</th>\n",
              "      <td>Argentina</td>\n",
              "      <td>Mexico</td>\n",
              "      <td>6</td>\n",
              "      <td>NaN</td>\n",
              "      <td>NaN</td>\n",
              "      <td>3</td>\n",
              "      <td>NaN</td>\n",
              "      <td>NaN</td>\n",
              "      <td>Francisco Olazar</td>\n",
              "      <td>Ángel Bossio</td>\n",
              "      <td>...</td>\n",
              "      <td>251</td>\n",
              "      <td>2373.978216</td>\n",
              "      <td>2191.875518</td>\n",
              "      <td>12</td>\n",
              "      <td>NaN</td>\n",
              "      <td>NaN</td>\n",
              "      <td>NaN</td>\n",
              "      <td>NaN</td>\n",
              "      <td>NaN</td>\n",
              "      <td>NaN</td>\n",
              "    </tr>\n",
              "    <tr>\n",
              "      <th>...</th>\n",
              "      <td>...</td>\n",
              "      <td>...</td>\n",
              "      <td>...</td>\n",
              "      <td>...</td>\n",
              "      <td>...</td>\n",
              "      <td>...</td>\n",
              "      <td>...</td>\n",
              "      <td>...</td>\n",
              "      <td>...</td>\n",
              "      <td>...</td>\n",
              "      <td>...</td>\n",
              "      <td>...</td>\n",
              "      <td>...</td>\n",
              "      <td>...</td>\n",
              "      <td>...</td>\n",
              "      <td>...</td>\n",
              "      <td>...</td>\n",
              "      <td>...</td>\n",
              "      <td>...</td>\n",
              "      <td>...</td>\n",
              "      <td>...</td>\n",
              "    </tr>\n",
              "    <tr>\n",
              "      <th>676</th>\n",
              "      <td>Morocco</td>\n",
              "      <td>Portugal</td>\n",
              "      <td>1</td>\n",
              "      <td>1.4</td>\n",
              "      <td>NaN</td>\n",
              "      <td>0</td>\n",
              "      <td>0.9</td>\n",
              "      <td>NaN</td>\n",
              "      <td>Hoalid Regragui</td>\n",
              "      <td>Romain Saïss</td>\n",
              "      <td>...</td>\n",
              "      <td>189</td>\n",
              "      <td>1920.251918</td>\n",
              "      <td>1956.362181</td>\n",
              "      <td>185</td>\n",
              "      <td>22.0</td>\n",
              "      <td>MAR</td>\n",
              "      <td>1563.50</td>\n",
              "      <td>1558.35</td>\n",
              "      <td>-1.0</td>\n",
              "      <td>CAF</td>\n",
              "    </tr>\n",
              "    <tr>\n",
              "      <th>677</th>\n",
              "      <td>Argentina</td>\n",
              "      <td>Croatia</td>\n",
              "      <td>3</td>\n",
              "      <td>2.3</td>\n",
              "      <td>NaN</td>\n",
              "      <td>0</td>\n",
              "      <td>0.5</td>\n",
              "      <td>NaN</td>\n",
              "      <td>Lionel Scaloni</td>\n",
              "      <td>Lionel Messi</td>\n",
              "      <td>...</td>\n",
              "      <td>189</td>\n",
              "      <td>1907.734749</td>\n",
              "      <td>1481.098674</td>\n",
              "      <td>12</td>\n",
              "      <td>3.0</td>\n",
              "      <td>ARG</td>\n",
              "      <td>1773.88</td>\n",
              "      <td>1770.65</td>\n",
              "      <td>0.0</td>\n",
              "      <td>CONMEBOL</td>\n",
              "    </tr>\n",
              "    <tr>\n",
              "      <th>678</th>\n",
              "      <td>France</td>\n",
              "      <td>Morocco</td>\n",
              "      <td>2</td>\n",
              "      <td>2.0</td>\n",
              "      <td>NaN</td>\n",
              "      <td>0</td>\n",
              "      <td>0.9</td>\n",
              "      <td>NaN</td>\n",
              "      <td>Didier Deschamps</td>\n",
              "      <td>Hugo Lloris</td>\n",
              "      <td>...</td>\n",
              "      <td>189</td>\n",
              "      <td>1721.819082</td>\n",
              "      <td>1716.619141</td>\n",
              "      <td>97</td>\n",
              "      <td>4.0</td>\n",
              "      <td>FRA</td>\n",
              "      <td>1759.78</td>\n",
              "      <td>1764.85</td>\n",
              "      <td>0.0</td>\n",
              "      <td>UEFA</td>\n",
              "    </tr>\n",
              "    <tr>\n",
              "      <th>679</th>\n",
              "      <td>Croatia</td>\n",
              "      <td>Morocco</td>\n",
              "      <td>2</td>\n",
              "      <td>0.7</td>\n",
              "      <td>NaN</td>\n",
              "      <td>1</td>\n",
              "      <td>1.2</td>\n",
              "      <td>NaN</td>\n",
              "      <td>Zlatko Dalić</td>\n",
              "      <td>Luka Modrić</td>\n",
              "      <td>...</td>\n",
              "      <td>189</td>\n",
              "      <td>1624.221157</td>\n",
              "      <td>1744.576076</td>\n",
              "      <td>67</td>\n",
              "      <td>12.0</td>\n",
              "      <td>CRO</td>\n",
              "      <td>1645.64</td>\n",
              "      <td>1632.15</td>\n",
              "      <td>-3.0</td>\n",
              "      <td>UEFA</td>\n",
              "    </tr>\n",
              "    <tr>\n",
              "      <th>680</th>\n",
              "      <td>Argentina</td>\n",
              "      <td>France</td>\n",
              "      <td>3</td>\n",
              "      <td>3.3</td>\n",
              "      <td>4.0</td>\n",
              "      <td>3</td>\n",
              "      <td>2.2</td>\n",
              "      <td>2.0</td>\n",
              "      <td>Lionel Scaloni</td>\n",
              "      <td>Lionel Messi</td>\n",
              "      <td>...</td>\n",
              "      <td>189</td>\n",
              "      <td>1812.141205</td>\n",
              "      <td>1368.792627</td>\n",
              "      <td>12</td>\n",
              "      <td>3.0</td>\n",
              "      <td>ARG</td>\n",
              "      <td>1773.88</td>\n",
              "      <td>1770.65</td>\n",
              "      <td>0.0</td>\n",
              "      <td>CONMEBOL</td>\n",
              "    </tr>\n",
              "  </tbody>\n",
              "</table>\n",
              "<p>681 rows × 66 columns</p>\n",
              "</div>\n",
              "    <div class=\"colab-df-buttons\">\n",
              "\n",
              "  <div class=\"colab-df-container\">\n",
              "    <button class=\"colab-df-convert\" onclick=\"convertToInteractive('df-4588fd7d-8c00-4ebf-8774-b4eaa7bccea0')\"\n",
              "            title=\"Convert this dataframe to an interactive table.\"\n",
              "            style=\"display:none;\">\n",
              "\n",
              "  <svg xmlns=\"http://www.w3.org/2000/svg\" height=\"24px\" viewBox=\"0 -960 960 960\">\n",
              "    <path d=\"M120-120v-720h720v720H120Zm60-500h600v-160H180v160Zm220 220h160v-160H400v160Zm0 220h160v-160H400v160ZM180-400h160v-160H180v160Zm440 0h160v-160H620v160ZM180-180h160v-160H180v160Zm440 0h160v-160H620v160Z\"/>\n",
              "  </svg>\n",
              "    </button>\n",
              "\n",
              "  <style>\n",
              "    .colab-df-container {\n",
              "      display:flex;\n",
              "      gap: 12px;\n",
              "    }\n",
              "\n",
              "    .colab-df-convert {\n",
              "      background-color: #E8F0FE;\n",
              "      border: none;\n",
              "      border-radius: 50%;\n",
              "      cursor: pointer;\n",
              "      display: none;\n",
              "      fill: #1967D2;\n",
              "      height: 32px;\n",
              "      padding: 0 0 0 0;\n",
              "      width: 32px;\n",
              "    }\n",
              "\n",
              "    .colab-df-convert:hover {\n",
              "      background-color: #E2EBFA;\n",
              "      box-shadow: 0px 1px 2px rgba(60, 64, 67, 0.3), 0px 1px 3px 1px rgba(60, 64, 67, 0.15);\n",
              "      fill: #174EA6;\n",
              "    }\n",
              "\n",
              "    .colab-df-buttons div {\n",
              "      margin-bottom: 4px;\n",
              "    }\n",
              "\n",
              "    [theme=dark] .colab-df-convert {\n",
              "      background-color: #3B4455;\n",
              "      fill: #D2E3FC;\n",
              "    }\n",
              "\n",
              "    [theme=dark] .colab-df-convert:hover {\n",
              "      background-color: #434B5C;\n",
              "      box-shadow: 0px 1px 3px 1px rgba(0, 0, 0, 0.15);\n",
              "      filter: drop-shadow(0px 1px 2px rgba(0, 0, 0, 0.3));\n",
              "      fill: #FFFFFF;\n",
              "    }\n",
              "  </style>\n",
              "\n",
              "    <script>\n",
              "      const buttonEl =\n",
              "        document.querySelector('#df-4588fd7d-8c00-4ebf-8774-b4eaa7bccea0 button.colab-df-convert');\n",
              "      buttonEl.style.display =\n",
              "        google.colab.kernel.accessAllowed ? 'block' : 'none';\n",
              "\n",
              "      async function convertToInteractive(key) {\n",
              "        const element = document.querySelector('#df-4588fd7d-8c00-4ebf-8774-b4eaa7bccea0');\n",
              "        const dataTable =\n",
              "          await google.colab.kernel.invokeFunction('convertToInteractive',\n",
              "                                                    [key], {});\n",
              "        if (!dataTable) return;\n",
              "\n",
              "        const docLinkHtml = 'Like what you see? Visit the ' +\n",
              "          '<a target=\"_blank\" href=https://colab.research.google.com/notebooks/data_table.ipynb>data table notebook</a>'\n",
              "          + ' to learn more about interactive tables.';\n",
              "        element.innerHTML = '';\n",
              "        dataTable['output_type'] = 'display_data';\n",
              "        await google.colab.output.renderOutput(dataTable, element);\n",
              "        const docLink = document.createElement('div');\n",
              "        docLink.innerHTML = docLinkHtml;\n",
              "        element.appendChild(docLink);\n",
              "      }\n",
              "    </script>\n",
              "  </div>\n",
              "\n",
              "\n",
              "<div id=\"df-cc8a6f91-30f3-4f24-bfef-c9c6d1284aa1\">\n",
              "  <button class=\"colab-df-quickchart\" onclick=\"quickchart('df-cc8a6f91-30f3-4f24-bfef-c9c6d1284aa1')\"\n",
              "            title=\"Suggest charts\"\n",
              "            style=\"display:none;\">\n",
              "\n",
              "<svg xmlns=\"http://www.w3.org/2000/svg\" height=\"24px\"viewBox=\"0 0 24 24\"\n",
              "     width=\"24px\">\n",
              "    <g>\n",
              "        <path d=\"M19 3H5c-1.1 0-2 .9-2 2v14c0 1.1.9 2 2 2h14c1.1 0 2-.9 2-2V5c0-1.1-.9-2-2-2zM9 17H7v-7h2v7zm4 0h-2V7h2v10zm4 0h-2v-4h2v4z\"/>\n",
              "    </g>\n",
              "</svg>\n",
              "  </button>\n",
              "\n",
              "<style>\n",
              "  .colab-df-quickchart {\n",
              "      --bg-color: #E8F0FE;\n",
              "      --fill-color: #1967D2;\n",
              "      --hover-bg-color: #E2EBFA;\n",
              "      --hover-fill-color: #174EA6;\n",
              "      --disabled-fill-color: #AAA;\n",
              "      --disabled-bg-color: #DDD;\n",
              "  }\n",
              "\n",
              "  [theme=dark] .colab-df-quickchart {\n",
              "      --bg-color: #3B4455;\n",
              "      --fill-color: #D2E3FC;\n",
              "      --hover-bg-color: #434B5C;\n",
              "      --hover-fill-color: #FFFFFF;\n",
              "      --disabled-bg-color: #3B4455;\n",
              "      --disabled-fill-color: #666;\n",
              "  }\n",
              "\n",
              "  .colab-df-quickchart {\n",
              "    background-color: var(--bg-color);\n",
              "    border: none;\n",
              "    border-radius: 50%;\n",
              "    cursor: pointer;\n",
              "    display: none;\n",
              "    fill: var(--fill-color);\n",
              "    height: 32px;\n",
              "    padding: 0;\n",
              "    width: 32px;\n",
              "  }\n",
              "\n",
              "  .colab-df-quickchart:hover {\n",
              "    background-color: var(--hover-bg-color);\n",
              "    box-shadow: 0 1px 2px rgba(60, 64, 67, 0.3), 0 1px 3px 1px rgba(60, 64, 67, 0.15);\n",
              "    fill: var(--button-hover-fill-color);\n",
              "  }\n",
              "\n",
              "  .colab-df-quickchart-complete:disabled,\n",
              "  .colab-df-quickchart-complete:disabled:hover {\n",
              "    background-color: var(--disabled-bg-color);\n",
              "    fill: var(--disabled-fill-color);\n",
              "    box-shadow: none;\n",
              "  }\n",
              "\n",
              "  .colab-df-spinner {\n",
              "    border: 2px solid var(--fill-color);\n",
              "    border-color: transparent;\n",
              "    border-bottom-color: var(--fill-color);\n",
              "    animation:\n",
              "      spin 1s steps(1) infinite;\n",
              "  }\n",
              "\n",
              "  @keyframes spin {\n",
              "    0% {\n",
              "      border-color: transparent;\n",
              "      border-bottom-color: var(--fill-color);\n",
              "      border-left-color: var(--fill-color);\n",
              "    }\n",
              "    20% {\n",
              "      border-color: transparent;\n",
              "      border-left-color: var(--fill-color);\n",
              "      border-top-color: var(--fill-color);\n",
              "    }\n",
              "    30% {\n",
              "      border-color: transparent;\n",
              "      border-left-color: var(--fill-color);\n",
              "      border-top-color: var(--fill-color);\n",
              "      border-right-color: var(--fill-color);\n",
              "    }\n",
              "    40% {\n",
              "      border-color: transparent;\n",
              "      border-right-color: var(--fill-color);\n",
              "      border-top-color: var(--fill-color);\n",
              "    }\n",
              "    60% {\n",
              "      border-color: transparent;\n",
              "      border-right-color: var(--fill-color);\n",
              "    }\n",
              "    80% {\n",
              "      border-color: transparent;\n",
              "      border-right-color: var(--fill-color);\n",
              "      border-bottom-color: var(--fill-color);\n",
              "    }\n",
              "    90% {\n",
              "      border-color: transparent;\n",
              "      border-bottom-color: var(--fill-color);\n",
              "    }\n",
              "  }\n",
              "</style>\n",
              "\n",
              "  <script>\n",
              "    async function quickchart(key) {\n",
              "      const quickchartButtonEl =\n",
              "        document.querySelector('#' + key + ' button');\n",
              "      quickchartButtonEl.disabled = true;  // To prevent multiple clicks.\n",
              "      quickchartButtonEl.classList.add('colab-df-spinner');\n",
              "      try {\n",
              "        const charts = await google.colab.kernel.invokeFunction(\n",
              "            'suggestCharts', [key], {});\n",
              "      } catch (error) {\n",
              "        console.error('Error during call to suggestCharts:', error);\n",
              "      }\n",
              "      quickchartButtonEl.classList.remove('colab-df-spinner');\n",
              "      quickchartButtonEl.classList.add('colab-df-quickchart-complete');\n",
              "    }\n",
              "    (() => {\n",
              "      let quickchartButtonEl =\n",
              "        document.querySelector('#df-cc8a6f91-30f3-4f24-bfef-c9c6d1284aa1 button');\n",
              "      quickchartButtonEl.style.display =\n",
              "        google.colab.kernel.accessAllowed ? 'block' : 'none';\n",
              "    })();\n",
              "  </script>\n",
              "</div>\n",
              "\n",
              "  <div id=\"id_dcf60c5b-8a11-42f6-9e52-84b5afa8ce8a\">\n",
              "    <style>\n",
              "      .colab-df-generate {\n",
              "        background-color: #E8F0FE;\n",
              "        border: none;\n",
              "        border-radius: 50%;\n",
              "        cursor: pointer;\n",
              "        display: none;\n",
              "        fill: #1967D2;\n",
              "        height: 32px;\n",
              "        padding: 0 0 0 0;\n",
              "        width: 32px;\n",
              "      }\n",
              "\n",
              "      .colab-df-generate:hover {\n",
              "        background-color: #E2EBFA;\n",
              "        box-shadow: 0px 1px 2px rgba(60, 64, 67, 0.3), 0px 1px 3px 1px rgba(60, 64, 67, 0.15);\n",
              "        fill: #174EA6;\n",
              "      }\n",
              "\n",
              "      [theme=dark] .colab-df-generate {\n",
              "        background-color: #3B4455;\n",
              "        fill: #D2E3FC;\n",
              "      }\n",
              "\n",
              "      [theme=dark] .colab-df-generate:hover {\n",
              "        background-color: #434B5C;\n",
              "        box-shadow: 0px 1px 3px 1px rgba(0, 0, 0, 0.15);\n",
              "        filter: drop-shadow(0px 1px 2px rgba(0, 0, 0, 0.3));\n",
              "        fill: #FFFFFF;\n",
              "      }\n",
              "    </style>\n",
              "    <button class=\"colab-df-generate\" onclick=\"generateWithVariable('rankings_merged')\"\n",
              "            title=\"Generate code using this dataframe.\"\n",
              "            style=\"display:none;\">\n",
              "\n",
              "  <svg xmlns=\"http://www.w3.org/2000/svg\" height=\"24px\"viewBox=\"0 0 24 24\"\n",
              "       width=\"24px\">\n",
              "    <path d=\"M7,19H8.4L18.45,9,17,7.55,7,17.6ZM5,21V16.75L18.45,3.32a2,2,0,0,1,2.83,0l1.4,1.43a1.91,1.91,0,0,1,.58,1.4,1.91,1.91,0,0,1-.58,1.4L9.25,21ZM18.45,9,17,7.55Zm-12,3A5.31,5.31,0,0,0,4.9,8.1,5.31,5.31,0,0,0,1,6.5,5.31,5.31,0,0,0,4.9,4.9,5.31,5.31,0,0,0,6.5,1,5.31,5.31,0,0,0,8.1,4.9,5.31,5.31,0,0,0,12,6.5,5.46,5.46,0,0,0,6.5,12Z\"/>\n",
              "  </svg>\n",
              "    </button>\n",
              "    <script>\n",
              "      (() => {\n",
              "      const buttonEl =\n",
              "        document.querySelector('#id_dcf60c5b-8a11-42f6-9e52-84b5afa8ce8a button.colab-df-generate');\n",
              "      buttonEl.style.display =\n",
              "        google.colab.kernel.accessAllowed ? 'block' : 'none';\n",
              "\n",
              "      buttonEl.onclick = () => {\n",
              "        google.colab.notebook.generateWithVariable('rankings_merged');\n",
              "      }\n",
              "      })();\n",
              "    </script>\n",
              "  </div>\n",
              "\n",
              "    </div>\n",
              "  </div>\n"
            ],
            "application/vnd.google.colaboratory.intrinsic+json": {
              "type": "dataframe",
              "variable_name": "rankings_merged"
            }
          },
          "metadata": {},
          "execution_count": 181
        }
      ]
    },
    {
      "cell_type": "code",
      "source": [],
      "metadata": {
        "id": "kK75disGYlNf"
      },
      "execution_count": null,
      "outputs": []
    }
  ],
  "metadata": {
    "colab": {
      "provenance": [],
      "authorship_tag": "ABX9TyODYfGOtRtKNPW4dlE1UXVM",
      "include_colab_link": true
    },
    "kernelspec": {
      "display_name": "Python 3",
      "name": "python3"
    },
    "language_info": {
      "name": "python"
    }
  },
  "nbformat": 4,
  "nbformat_minor": 0
}